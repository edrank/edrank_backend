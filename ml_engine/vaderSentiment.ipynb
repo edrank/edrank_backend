{
  "cells": [
    {
      "cell_type": "code",
      "execution_count": null,
      "metadata": {
        "colab": {
          "base_uri": "https://localhost:8080/"
        },
        "id": "-DFqAQtzlE2C",
        "outputId": "d547457d-8cc4-4f76-e776-e998e4af83a4"
      },
      "outputs": [
        {
          "name": "stdout",
          "output_type": "stream",
          "text": [
            "Looking in indexes: https://pypi.org/simple, https://us-python.pkg.dev/colab-wheels/public/simple/\n",
            "Requirement already satisfied: vaderSentiment in /usr/local/lib/python3.7/dist-packages (3.3.2)\n",
            "Requirement already satisfied: requests in /usr/local/lib/python3.7/dist-packages (from vaderSentiment) (2.23.0)\n",
            "Requirement already satisfied: chardet<4,>=3.0.2 in /usr/local/lib/python3.7/dist-packages (from requests->vaderSentiment) (3.0.4)\n",
            "Requirement already satisfied: certifi>=2017.4.17 in /usr/local/lib/python3.7/dist-packages (from requests->vaderSentiment) (2022.6.15)\n",
            "Requirement already satisfied: idna<3,>=2.5 in /usr/local/lib/python3.7/dist-packages (from requests->vaderSentiment) (2.10)\n",
            "Requirement already satisfied: urllib3!=1.25.0,!=1.25.1,<1.26,>=1.21.1 in /usr/local/lib/python3.7/dist-packages (from requests->vaderSentiment) (1.24.3)\n"
          ]
        }
      ],
      "source": [
        "pip install vaderSentiment"
      ]
    },
    {
      "cell_type": "code",
      "execution_count": null,
      "metadata": {
        "id": "AmahxVMWlCOj"
      },
      "outputs": [],
      "source": [
        "from vaderSentiment.vaderSentiment import SentimentIntensityAnalyzer\n",
        "\n",
        "def sentiment_scores(sentence):\n",
        "\n",
        "\tsid_obj = SentimentIntensityAnalyzer()\n",
        "\n",
        "\tsentiment_dict = sid_obj.polarity_scores(sentence)\n",
        "\t\n",
        "\tprint(sentiment_dict)\n",
        "\tprint(sentiment_dict['neg']*100, \"% Negative\")\n",
        "\tprint(sentiment_dict['neu']*100, \"% Neutral\")\n",
        "\tprint(sentiment_dict['pos']*100, \"% Positive\")"
      ]
    },
    {
      "cell_type": "code",
      "execution_count": null,
      "metadata": {
        "colab": {
          "base_uri": "https://localhost:8080/"
        },
        "id": "luReAdKzFdLS",
        "outputId": "2c8537a6-3ec7-49d1-b78d-22f0fb18a862"
      },
      "outputs": [
        {
          "name": "stdout",
          "output_type": "stream",
          "text": [
            "{'neg': 0.0, 'neu': 0.539, 'pos': 0.461, 'compound': 0.8271}\n",
            "0.0 % Negative\n",
            "53.900000000000006 % Neutral\n",
            "46.1 % Positive\n"
          ]
        }
      ],
      "source": [
        "sentence = \"Left syllabus but good subject knowledge. Good control over the class.\"\n",
        "sentiment_scores(sentence)"
      ]
    }
  ],
  "metadata": {
    "colab": {
      "collapsed_sections": [],
      "name": "vaderSentiment.ipynb",
      "provenance": []
    },
    "kernelspec": {
      "display_name": "Python 3.10.4 64-bit",
      "language": "python",
      "name": "python3"
    },
    "language_info": {
      "name": "python",
      "version": "3.10.4"
    },
    "vscode": {
      "interpreter": {
        "hash": "916dbcbb3f70747c44a77c7bcd40155683ae19c65e1c03b4aa3499c5328201f1"
      }
    }
  },
  "nbformat": 4,
  "nbformat_minor": 0
}
